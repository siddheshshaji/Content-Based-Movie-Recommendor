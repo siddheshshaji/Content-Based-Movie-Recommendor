{
 "cells": [
  {
   "cell_type": "markdown",
   "metadata": {},
   "source": [
    "# Web scraping "
   ]
  },
  {
   "cell_type": "code",
   "execution_count": null,
   "metadata": {},
   "outputs": [],
   "source": [
    "from requests import get\n",
    "url = 'http://www.imdb.com/search/title?release_date=2017&sort=num_votes,desc&page=1'\n",
    "response = get(url)\n",
    "print(response.text[:500])"
   ]
  },
  {
   "cell_type": "code",
   "execution_count": null,
   "metadata": {},
   "outputs": [],
   "source": [
    "from bs4 import BeautifulSoup\n",
    "html_soup = BeautifulSoup(response.text, 'html.parser')\n",
    "html_soup"
   ]
  },
  {
   "cell_type": "code",
   "execution_count": null,
   "metadata": {},
   "outputs": [],
   "source": [
    "movie_containers = html_soup.find_all('div', class_ = 'lister-item mode-advanced')\n",
    "print(type(movie_containers))\n",
    "print(len(movie_containers))"
   ]
  },
  {
   "cell_type": "code",
   "execution_count": null,
   "metadata": {},
   "outputs": [],
   "source": [
    "first_movie = html_soup('div', class_ = 'lister-item mode-advanced')[0]\n",
    "first_movie.h3.a.get_text()"
   ]
  },
  {
   "cell_type": "code",
   "execution_count": null,
   "metadata": {},
   "outputs": [],
   "source": [
    "first_year = first_movie.h3.find('span', class_ = 'lister-item-year text-muted unbold')\n",
    "first_year.get_text()"
   ]
  },
  {
   "cell_type": "code",
   "execution_count": null,
   "metadata": {},
   "outputs": [],
   "source": [
    "first_rating = float(first_movie.strong.text)\n",
    "first_rating"
   ]
  },
  {
   "cell_type": "code",
   "execution_count": null,
   "metadata": {},
   "outputs": [],
   "source": [
    "first_meta_score = first_movie.find('span', class_ = 'metascore favorable')\n",
    "first_meta_score = float(first_meta_score.text)\n",
    "first_meta_score"
   ]
  },
  {
   "cell_type": "code",
   "execution_count": null,
   "metadata": {},
   "outputs": [],
   "source": [
    "first_votes = first_movie.find('span', attrs = {'name':'nv'})\n",
    "first_votes = float(first_votes['data-value'])\n",
    "first_votes"
   ]
  },
  {
   "cell_type": "code",
   "execution_count": null,
   "metadata": {},
   "outputs": [],
   "source": [
    "first_genre = first_movie.find('span', class_ = 'genre')\n",
    "first_genre = first_genre.text\n",
    "first_genre"
   ]
  },
  {
   "cell_type": "code",
   "execution_count": null,
   "metadata": {},
   "outputs": [],
   "source": [
    "first_Director_Stars = first_movie.find_all(\"p\")\n",
    "first_Director_Stars = first_Director_Stars[2]\n",
    "first_Director_Stars = first_Director_Stars.find_all(\"a\")\n",
    "stars = []\n",
    "for i in range(len(first_Director_Stars)):\n",
    "    stars.append(first_Director_Stars[i].get_text())\n",
    "\n",
    "stars"
   ]
  },
  {
   "cell_type": "markdown",
   "metadata": {},
   "source": [
    "# Combining all of the above methods inside a single for loop "
   ]
  },
  {
   "cell_type": "code",
   "execution_count": null,
   "metadata": {},
   "outputs": [],
   "source": [
    "# Lists to store the scraped data in\n",
    "\n",
    "names = []\n",
    "years = []\n",
    "imdb_ratings = []\n",
    "metascores = []\n",
    "votes = []\n",
    "genre = []\n",
    "Dstars = []\n",
    "\n",
    "# Extract data from individual movie container\n",
    "for container in movie_containers:\n",
    "# If the movie has Metascore, then extract:\n",
    "    if container.find('div', class_ = 'ratings-metascore') is not None:\n",
    "        stars = []\n",
    "# The name\n",
    "        name = container.h3.a.text\n",
    "        names.append(name)\n",
    "# The year\n",
    "        year = container.h3.find('span', class_ = 'lister-item-year').text\n",
    "        years.append(year)\n",
    "# The IMDB rating\n",
    "        imdb = float(container.strong.text)\n",
    "        imdb_ratings.append(imdb)\n",
    "# The Metascore\n",
    "        m_score = container.find('span', class_ = 'metascore').text\n",
    "        metascores.append(int(m_score))\n",
    "# The number of votes\n",
    "        vote = container.find('span', attrs = {'name':'nv'})['data-value']\n",
    "        votes.append(int(vote))\n",
    "# Genres\n",
    "        genres = container.find('span', class_ = 'genre').text\n",
    "        genres = genres.replace(\"\\n\",\"\")\n",
    "        genre.append(genres)\n",
    "# Director and stars\n",
    "        first_Director_Stars = container.find_all(\"p\")\n",
    "        first_Director_Stars = first_Director_Stars[2]\n",
    "        first_Director_Stars = first_Director_Stars.find_all(\"a\")\n",
    "        for i in range(len(first_Director_Stars)):\n",
    "            stars.append(first_Director_Stars[i].get_text())\n",
    "        Dstars.append(stars)\n",
    "            "
   ]
  },
  {
   "cell_type": "markdown",
   "metadata": {},
   "source": [
    "# Making a dataframe using the data we got in the previous step"
   ]
  },
  {
   "cell_type": "code",
   "execution_count": null,
   "metadata": {},
   "outputs": [],
   "source": [
    "import pandas as pd\n",
    "test_df = pd.DataFrame({'Movie': names,\n",
    "'Year': years,\n",
    "'Rating': imdb_ratings,\n",
    "'Metascore': metascores,\n",
    "'Votes': votes,\n",
    "'Genre': genre,\n",
    "'Director and stars':Dstars\n",
    "})\n",
    "test_df"
   ]
  },
  {
   "cell_type": "code",
   "execution_count": null,
   "metadata": {},
   "outputs": [],
   "source": [
    "names = []\n",
    "years = []\n",
    "imdb_ratings = []\n",
    "metascores = []\n",
    "votes = []\n",
    "genre = []\n",
    "Dstars = []\n",
    "\n",
    "for i in range(0,347330,50): \n",
    "    url = 'https://www.imdb.com/search/title/?release_date=1990-01-01,2020-12-31&sort=num_votes,desc&start={}&ref_=adv_nxt'.format(i)\n",
    "    response = get(url)\n",
    "    html_soup = BeautifulSoup(response.text, 'html.parser')\n",
    "    movie_containers = html_soup.find_all('div', class_ = 'lister-item mode-advanced')\n",
    "    for container in movie_containers:\n",
    "        if container.find('div', class_ = 'ratings-metascore') is not None:\n",
    "            stars = []\n",
    "            #name of the movie\n",
    "            name = container.h3.a.text\n",
    "            names.append(name)\n",
    "            \n",
    "            #year of release\n",
    "            year = container.h3.find('span', class_ = 'lister-item-year').text\n",
    "            years.append(year)\n",
    "            \n",
    "            #rating it got\n",
    "            imdb = float(container.strong.text)\n",
    "            imdb_ratings.append(imdb)\n",
    "            \n",
    "            #metascore of the movie\n",
    "            m_score = container.find('span', class_ = 'metascore').text\n",
    "            metascores.append(int(m_score))\n",
    "            \n",
    "            #no. of votes\n",
    "            vote = container.find('span', attrs = {'name':'nv'})['data-value']\n",
    "            votes.append(int(vote))\n",
    "            \n",
    "            #genre\n",
    "            genres = container.find('span', class_ = 'genre').text\n",
    "            genres = genres.replace(\"\\n\",\"\")\n",
    "            genre.append(genres)\n",
    "            \n",
    "            #directors and actors\n",
    "            first_Director_Stars = container.find_all(\"p\")\n",
    "            first_Director_Stars = first_Director_Stars[2]\n",
    "            first_Director_Stars = first_Director_Stars.find_all(\"a\")\n",
    "            for i in range(len(first_Director_Stars)):\n",
    "                stars.append(first_Director_Stars[i].get_text())\n",
    "            Dstars.append(stars)\n",
    "            "
   ]
  },
  {
   "cell_type": "code",
   "execution_count": null,
   "metadata": {},
   "outputs": [],
   "source": [
    "#Find the best movie among the bunch\n",
    "\n",
    "test_df = pd.DataFrame({'Movie': names,\n",
    "'Year': years,\n",
    "'Rating': imdb_ratings,\n",
    "'Metascore': metascores,\n",
    "'Votes': votes,\n",
    "'Genre': genre,\n",
    "'Director and stars':Dstars,\n",
    "})\n",
    "test_df['Total'] = test_df[\"Rating\"] + test_df[\"Metascore\"] + test_df['Votes']\n",
    "test_df.sort_values(\"Total\",ascending=False)\n"
   ]
  },
  {
   "cell_type": "markdown",
   "metadata": {},
   "source": [
    "# Recommender system(Content based)"
   ]
  },
  {
   "cell_type": "code",
   "execution_count": null,
   "metadata": {},
   "outputs": [],
   "source": [
    "\n",
    "def listToString(s):  \n",
    "    string = \"\"  \n",
    "    for element in s:  \n",
    "        string += element   \n",
    "    return string  \n",
    "\n",
    "test_df[\"Director and stars\"] = test_df[\"Director and stars\"].apply(listToString)\n",
    "\n",
    "def combine_features(df):\n",
    "    return df['Genre'] +\" \"+ df['Director and stars']\n",
    "\n",
    "test_df[\"Combined_features\"] = test_df.apply(combine_features,axis=1)"
   ]
  },
  {
   "cell_type": "code",
   "execution_count": null,
   "metadata": {},
   "outputs": [],
   "source": [
    "from sklearn.feature_extraction.text import CountVectorizer\n",
    "from sklearn.metrics.pairwise import cosine_similarity\n",
    "\n",
    "text = test_df['Combined_features']#.astype(str)\n",
    "cv = CountVectorizer()\n",
    "\n",
    "count_matrix = cv.fit_transform(text)\n",
    "print(count_matrix)\n"
   ]
  },
  {
   "cell_type": "code",
   "execution_count": null,
   "metadata": {},
   "outputs": [],
   "source": [
    "similarity_scores = cosine_similarity(count_matrix)\n",
    "similarity_scores\n",
    "similarity_scores[22]"
   ]
  },
  {
   "cell_type": "code",
   "execution_count": null,
   "metadata": {},
   "outputs": [],
   "source": [
    "def get_title_from_index(index):\n",
    "    return test_df[\"Movie\"][index]\n",
    "\n",
    "def get_index_from_title(title):\n",
    "    return test_df[test_df.Movie == title].index.values[0]"
   ]
  },
  {
   "cell_type": "code",
   "execution_count": null,
   "metadata": {},
   "outputs": [],
   "source": [
    "get_title_from_index(22)"
   ]
  },
  {
   "cell_type": "code",
   "execution_count": null,
   "metadata": {},
   "outputs": [],
   "source": [
    "get_index_from_title(\"Thor\")"
   ]
  },
  {
   "cell_type": "code",
   "execution_count": null,
   "metadata": {},
   "outputs": [],
   "source": [
    "# Content based recommender \n",
    "movie_user_likes = input(\"Enter the name of a movie you like: \")\n",
    "movie_index = get_index_from_title(movie_user_likes)\n",
    "similar_movies =  list(enumerate(similarity_scores[movie_index]))\n",
    "sorted_similar_movies = sorted(similar_movies,key=lambda x:x[1],reverse=True)\n",
    "i=0\n",
    "for element in sorted_similar_movies:\n",
    "        print(get_title_from_index(element[0]))\n",
    "        i=i+1\n",
    "        if i>10:\n",
    "            break"
   ]
  },
  {
   "cell_type": "code",
   "execution_count": null,
   "metadata": {},
   "outputs": [],
   "source": []
  },
  {
   "cell_type": "code",
   "execution_count": null,
   "metadata": {},
   "outputs": [],
   "source": []
  }
 ],
 "metadata": {
  "kernelspec": {
   "display_name": "Python 3",
   "language": "python",
   "name": "python3"
  },
  "language_info": {
   "codemirror_mode": {
    "name": "ipython",
    "version": 3
   },
   "file_extension": ".py",
   "mimetype": "text/x-python",
   "name": "python",
   "nbconvert_exporter": "python",
   "pygments_lexer": "ipython3",
   "version": "3.7.1"
  }
 },
 "nbformat": 4,
 "nbformat_minor": 2
}
